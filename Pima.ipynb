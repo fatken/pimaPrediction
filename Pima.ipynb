{
 "cells": [
  {
   "cell_type": "markdown",
   "metadata": {},
   "source": [
    "# Pima indian diabetes"
   ]
  },
  {
   "cell_type": "markdown",
   "metadata": {},
   "source": [
    "For Each Attribute: (all numeric-valued)\n",
    "   1. Number of times pregnant/怀孕次数\n",
    "   2. Plasma glucose concentration a 2 hours in an oral glucose tolerance test/口服葡萄糖耐量测试中2小时内血糖浓度\n",
    "   3. Diastolic blood pressure (mm Hg)/舒张压(毫米汞柱)\n",
    "   4. Triceps skin fold thickness (mm)/三头肌褶皱厚度(mm)\n",
    "   5. 2-Hour serum insulin (mu U/ml)/2小时血清胰岛素(mu U/ ml)\n",
    "   6. Body mass index (weight in kg/(height in m)^2)/体质指数\n",
    "   7. Diabetes pedigree function/糖尿病血统函数\n",
    "   8. Age (years)/年龄\n",
    "   9. Class variable (0 or 1)/诊断\n",
    "\n",
    "Class Distribution: (class value 1 is interpreted as \"tested positive for diabetes\")\n"
   ]
  },
  {
   "cell_type": "code",
   "execution_count": 1,
   "metadata": {},
   "outputs": [],
   "source": [
    "import pandas as pd\n",
    "import numpy as np\n",
    "import matplotlib.pyplot as plt\n",
    "from scipy.optimize import minimize\n",
    "import time\n",
    "\n",
    "%matplotlib inline"
   ]
  },
  {
   "cell_type": "markdown",
   "metadata": {},
   "source": [
    "# Regularized cost function"
   ]
  },
  {
   "cell_type": "code",
   "execution_count": 2,
   "metadata": {},
   "outputs": [],
   "source": [
    "def logisticCostFunRegularized(theta, X, y, lam):\n",
    "    [m, n] = X.shape\n",
    "    theta = theta.reshape((n, 1))\n",
    "    \n",
    "    hypothesis = sigmoid(np.dot(X,theta))\n",
    "    J = 1/m * (np.dot(-y.transpose(), np.log(hypothesis))-np.dot((1-y.transpose()), np.log(1-hypothesis)))+lam/(2*m)*np.dot(theta[1:].transpose(), theta[1:])\n",
    "    \n",
    "    grad0 = 1/m * np.dot(X.T.iloc[0].values.reshape(1, m), hypothesis - y)\n",
    "    grad = 1/m * np.dot(X.T, hypothesis - y) + lam/m*theta\n",
    "    grad[0] = grad0\n",
    "    return(float(J), grad.flatten())"
   ]
  },
  {
   "cell_type": "markdown",
   "metadata": {},
   "source": [
    "# Sigmoid function"
   ]
  },
  {
   "cell_type": "code",
   "execution_count": 3,
   "metadata": {},
   "outputs": [],
   "source": [
    "def sigmoid(z):\n",
    "    return(1/(1+np.e**(-z)))"
   ]
  },
  {
   "cell_type": "markdown",
   "metadata": {},
   "source": [
    "# Feature normalization"
   ]
  },
  {
   "cell_type": "code",
   "execution_count": 4,
   "metadata": {},
   "outputs": [],
   "source": [
    "# Feature normalization(FOR DATAFRAME, NOT NUMPY ARRAY)\n",
    "def featureNormalize(X, mu = 0, sigma = 0):\n",
    "    if((type(mu)==int or type(mu)== int) and (mu==0 or sigma==0)):\n",
    "        mu = np.mean(X)\n",
    "        sigma = np.std(X)\n",
    "        XNorm = (X - mu)/sigma\n",
    "        return(XNorm, mu, sigma)\n",
    "    else:\n",
    "        XNorm = (X - mu)/sigma\n",
    "        return(XNorm)"
   ]
  },
  {
   "cell_type": "markdown",
   "metadata": {},
   "source": [
    "# Regularized Gradient Descent"
   ]
  },
  {
   "cell_type": "code",
   "execution_count": 5,
   "metadata": {},
   "outputs": [],
   "source": [
    "def gradientDescentRegularized(X, y, theta, alpha, num_iters, lam):\n",
    "    m = len(y)\n",
    "    JHistory = []\n",
    "    for i in range(num_iters):\n",
    "        hypothesis = sigmoid(np.dot(X,theta))\n",
    "        tempTheta0 = theta[0] - alpha/m*np.dot(X.transpose().iloc[0,:], hypothesis[0]-y.iloc[:,0])\n",
    "        \n",
    "        theta = theta - alpha*(1/m*np.dot(X.transpose(), hypothesis-y) + lam/m*theta)\n",
    "        JHistory.append(logisticCostFunRegularized(theta,X,y, lam)[0])\n",
    "    return([theta, JHistory])"
   ]
  },
  {
   "cell_type": "markdown",
   "metadata": {},
   "source": [
    "## scipy minimize function"
   ]
  },
  {
   "cell_type": "code",
   "execution_count": 6,
   "metadata": {},
   "outputs": [],
   "source": [
    "#regression theta can be initialized to 0\n",
    "def trainLinearReg(X, y, lam):\n",
    "    theta = np.zeros((X.shape[1], 1))\n",
    "    options={'disp': False, 'gtol': 1e-6} #'gtol':1e-6, 'maxIters': 50,     for BFGS\n",
    "    minimizeArgs = (X, y, lam)\n",
    "    res = minimize(logisticCostFunRegularized, theta, method='CG', jac=True, options=options,args=minimizeArgs) #, callback=append \n",
    "    return(res)\n",
    "\n",
    "def append(x):\n",
    "    JHistory.append(logisticCostFunRegularized(x, XTrain, yTrain, lam)[0])"
   ]
  },
  {
   "cell_type": "markdown",
   "metadata": {},
   "source": [
    "## Misclassification error function"
   ]
  },
  {
   "cell_type": "code",
   "execution_count": 7,
   "metadata": {},
   "outputs": [],
   "source": [
    "def misclassificationErrorFun(theta, X, y, threshold):\n",
    "    m = y.shape[0]\n",
    "    hypothesis = sigmoid(np.dot(X, theta))\n",
    "    prediction = (hypothesis >= threshold) * 1\n",
    "    prediction = prediction.reshape((1, prediction.shape[0]))\n",
    "    testError = 1/m * np.sum(np.array(yTest[yTest.columns[0]]) != prediction)\n",
    "    return(testError)"
   ]
  },
  {
   "cell_type": "markdown",
   "metadata": {},
   "source": [
    "# prediction function"
   ]
  },
  {
   "cell_type": "code",
   "execution_count": 8,
   "metadata": {},
   "outputs": [],
   "source": [
    "def predict(theta, X, y, threshold):\n",
    "    prediction = (sigmoid(np.dot(XTest, theta)) >= threshold) * 1\n",
    "    prediction = pd.DataFrame(prediction, index = y.index, columns=['prediction'])\n",
    "    result = pd.concat([y, prediction], axis=1)\n",
    "    accuracy = np.sum(y[y.columns[0]] == prediction['prediction'])/y.shape[0]\n",
    "    return(result, accuracy)"
   ]
  },
  {
   "cell_type": "markdown",
   "metadata": {},
   "source": [
    "## read files"
   ]
  },
  {
   "cell_type": "code",
   "execution_count": 9,
   "metadata": {},
   "outputs": [
    {
     "data": {
      "text/html": [
       "<div>\n",
       "<style scoped>\n",
       "    .dataframe tbody tr th:only-of-type {\n",
       "        vertical-align: middle;\n",
       "    }\n",
       "\n",
       "    .dataframe tbody tr th {\n",
       "        vertical-align: top;\n",
       "    }\n",
       "\n",
       "    .dataframe thead th {\n",
       "        text-align: right;\n",
       "    }\n",
       "</style>\n",
       "<table border=\"1\" class=\"dataframe\">\n",
       "  <thead>\n",
       "    <tr style=\"text-align: right;\">\n",
       "      <th></th>\n",
       "      <th>NoPregnant</th>\n",
       "      <th>Plasma glucose concentration</th>\n",
       "      <th>Diastolic blood pressure(mm Hg)</th>\n",
       "      <th>Triceps skin fold thickness (mm)</th>\n",
       "      <th>2-hr serum insulin(mu U/ml)</th>\n",
       "      <th>Body mass index</th>\n",
       "      <th>Diabetes pedigree function</th>\n",
       "      <th>Age</th>\n",
       "      <th>Class variable</th>\n",
       "    </tr>\n",
       "  </thead>\n",
       "  <tbody>\n",
       "    <tr>\n",
       "      <th>0</th>\n",
       "      <td>6</td>\n",
       "      <td>148</td>\n",
       "      <td>72</td>\n",
       "      <td>35</td>\n",
       "      <td>0</td>\n",
       "      <td>33.6</td>\n",
       "      <td>0.627</td>\n",
       "      <td>50</td>\n",
       "      <td>1</td>\n",
       "    </tr>\n",
       "    <tr>\n",
       "      <th>1</th>\n",
       "      <td>1</td>\n",
       "      <td>85</td>\n",
       "      <td>66</td>\n",
       "      <td>29</td>\n",
       "      <td>0</td>\n",
       "      <td>26.6</td>\n",
       "      <td>0.351</td>\n",
       "      <td>31</td>\n",
       "      <td>0</td>\n",
       "    </tr>\n",
       "    <tr>\n",
       "      <th>2</th>\n",
       "      <td>8</td>\n",
       "      <td>183</td>\n",
       "      <td>64</td>\n",
       "      <td>0</td>\n",
       "      <td>0</td>\n",
       "      <td>23.3</td>\n",
       "      <td>0.672</td>\n",
       "      <td>32</td>\n",
       "      <td>1</td>\n",
       "    </tr>\n",
       "    <tr>\n",
       "      <th>3</th>\n",
       "      <td>1</td>\n",
       "      <td>89</td>\n",
       "      <td>66</td>\n",
       "      <td>23</td>\n",
       "      <td>94</td>\n",
       "      <td>28.1</td>\n",
       "      <td>0.167</td>\n",
       "      <td>21</td>\n",
       "      <td>0</td>\n",
       "    </tr>\n",
       "    <tr>\n",
       "      <th>4</th>\n",
       "      <td>0</td>\n",
       "      <td>137</td>\n",
       "      <td>40</td>\n",
       "      <td>35</td>\n",
       "      <td>168</td>\n",
       "      <td>43.1</td>\n",
       "      <td>2.288</td>\n",
       "      <td>33</td>\n",
       "      <td>1</td>\n",
       "    </tr>\n",
       "  </tbody>\n",
       "</table>\n",
       "</div>"
      ],
      "text/plain": [
       "   NoPregnant  Plasma glucose concentration  Diastolic blood pressure(mm Hg)  \\\n",
       "0           6                           148                               72   \n",
       "1           1                            85                               66   \n",
       "2           8                           183                               64   \n",
       "3           1                            89                               66   \n",
       "4           0                           137                               40   \n",
       "\n",
       "   Triceps skin fold thickness (mm)  2-hr serum insulin(mu U/ml)  \\\n",
       "0                                35                            0   \n",
       "1                                29                            0   \n",
       "2                                 0                            0   \n",
       "3                                23                           94   \n",
       "4                                35                          168   \n",
       "\n",
       "   Body mass index  Diabetes pedigree function  Age  Class variable  \n",
       "0             33.6                       0.627   50               1  \n",
       "1             26.6                       0.351   31               0  \n",
       "2             23.3                       0.672   32               1  \n",
       "3             28.1                       0.167   21               0  \n",
       "4             43.1                       2.288   33               1  "
      ]
     },
     "execution_count": 9,
     "metadata": {},
     "output_type": "execute_result"
    }
   ],
   "source": [
    "data = pd.read_csv(\"pima-indians-diabetes.data.txt\", names=['NoPregnant', 'Plasma glucose concentration', 'Diastolic blood pressure(mm Hg)', 'Triceps skin fold thickness (mm)', '2-hr serum insulin(mu U/ml)', 'Body mass index', 'Diabetes pedigree function', 'Age', 'Class variable'])\n",
    "data.head()"
   ]
  },
  {
   "cell_type": "markdown",
   "metadata": {},
   "source": [
    "# separating sets and normalize"
   ]
  },
  {
   "cell_type": "code",
   "execution_count": 10,
   "metadata": {},
   "outputs": [],
   "source": [
    "#xTrain, xCV, xTest\n",
    "X = data[data.columns[:-1]]\n",
    "y = pd.DataFrame(data[data.columns[-1]])\n",
    "m = X.shape[0]\n",
    "\n",
    "mTemp = np.round(X.shape[0]*0.4)\n",
    "if mTemp%2 != 0:\n",
    "    mTemp+=1\n",
    "mCV = mTest = int(mTemp/2)\n",
    "mTrain = int(m - mTemp)\n",
    "\n",
    "XTrain = X.iloc[:mTrain]\n",
    "yTrain = y.iloc[:mTrain]\n",
    "XTrain, mu, sigma = featureNormalize(XTrain)\n",
    "x0 = pd.DataFrame(np.ones((mTrain, 1)), columns=[\"x0\"], index=XTrain.index)\n",
    "XTrain=pd.concat([x0, XTrain], axis=1)\n",
    "\n",
    "XCV = X.iloc[mTrain:mTrain+mCV]\n",
    "yCV = y.iloc[mTrain:mTrain+mCV]\n",
    "XCV = featureNormalize(XCV, mu, sigma)\n",
    "x0 = pd.DataFrame(np.ones((mCV, 1)), columns=[\"x0\"], index=XCV.index)\n",
    "XCV=pd.concat([x0, XCV], axis=1)\n",
    "\n",
    "XTest = X.iloc[-mCV:]\n",
    "yTest = y.iloc[-mCV:]\n",
    "XTest = featureNormalize(XTest, mu, sigma)\n",
    "x0 = pd.DataFrame(np.ones((mTest, 1)), columns=[\"x0\"], index=XTest.index)\n",
    "XTest=pd.concat([x0, XTest], axis=1)"
   ]
  },
  {
   "cell_type": "markdown",
   "metadata": {},
   "source": [
    "## scipy.optimize.minimize\n",
    "### Find the best $\\lambda$"
   ]
  },
  {
   "cell_type": "code",
   "execution_count": 11,
   "metadata": {},
   "outputs": [],
   "source": [
    "lamVec = [0.0001, 0.0002, 0.0004, 0.0008, 0.0016, 0.032, 0.0064, 0.0128, 0.0256, 0.0512, 1.024, 2.048, 4.096, 8.192, 16.384]"
   ]
  },
  {
   "cell_type": "code",
   "execution_count": 12,
   "metadata": {},
   "outputs": [
    {
     "name": "stdout",
     "output_type": "stream",
     "text": [
      "lambda = 0.0001, CV cost: 0.4122746670438122\n",
      "lambda = 0.0002, CV cost: 0.41227471953926365\n",
      "lambda = 0.0004, CV cost: 0.4122748244693618\n",
      "lambda = 0.0008, CV cost: 0.41227503411348915\n",
      "lambda = 0.0016, CV cost: 0.41227545234731494\n",
      "lambda = 0.032, CV cost: 0.4122910707279443\n",
      "lambda = 0.0064, CV cost: 0.4122776803841297\n",
      "lambda = 0.0128, CV cost: 0.41228115376573393\n",
      "lambda = 0.0256, CV cost: 0.4122879126803875\n",
      "lambda = 0.0512, CV cost: 0.4123017995379136\n",
      "lambda = 1.024, CV cost: 0.41285656469399856\n",
      "lambda = 2.048, CV cost: 0.41350881765141734\n",
      "lambda = 4.096, CV cost: 0.4149588856393644\n",
      "lambda = 8.192, CV cost: 0.4181761369841567\n",
      "lambda = 16.384, CV cost: 0.4248915128415326\n"
     ]
    }
   ],
   "source": [
    "CVCost = []\n",
    "for i in range(len(lamVec)):\n",
    "    lam = lamVec[i]\n",
    "    theta = trainLinearReg(XTrain, yTrain, lamVec[i]).x\n",
    "    CVCost.append(logisticCostFunRegularized(theta, XCV, yCV, 0)[0])\n",
    "    print('lambda = ' + str(lamVec[i]) + ', CV cost: ' + str(CVCost[-1]))"
   ]
  },
  {
   "cell_type": "code",
   "execution_count": 13,
   "metadata": {},
   "outputs": [
    {
     "data": {
      "text/plain": [
       "(array([0]),)"
      ]
     },
     "execution_count": 13,
     "metadata": {},
     "output_type": "execute_result"
    }
   ],
   "source": [
    "np.where(CVCost == np.min(CVCost))"
   ]
  },
  {
   "cell_type": "markdown",
   "metadata": {},
   "source": [
    "best lambda = 0.0001  \n",
    "### Then train $\\theta$s on the best $\\lambda$"
   ]
  },
  {
   "cell_type": "code",
   "execution_count": 14,
   "metadata": {},
   "outputs": [],
   "source": [
    "lam = 0.0001\n",
    "result = trainLinearReg(XTrain, yTrain, lam)\n",
    "theta = result.x.reshape((XTrain.shape[1], 1))"
   ]
  },
  {
   "cell_type": "markdown",
   "metadata": {},
   "source": [
    "## Gradient descent"
   ]
  },
  {
   "cell_type": "code",
   "execution_count": 15,
   "metadata": {},
   "outputs": [
    {
     "name": "stdout",
     "output_type": "stream",
     "text": [
      "lambda = 0.0001, CV cost: 0.41232202926870043\n",
      "lambda = 0.0002, CV cost: 0.4123221753494607\n",
      "lambda = 0.0004, CV cost: 0.41232246751377466\n",
      "lambda = 0.0008, CV cost: 0.41232305185357754\n",
      "lambda = 0.0016, CV cost: 0.4123242205778825\n",
      "lambda = 0.032, CV cost: 0.41236867626026075\n",
      "lambda = 0.0064, CV cost: 0.4123312341752659\n",
      "lambda = 0.0128, CV cost: 0.412340588975793\n",
      "lambda = 0.0256, CV cost: 0.4123593100184459\n",
      "lambda = 0.0512, CV cost: 0.4123967978665395\n",
      "lambda = 1.024, CV cost: 0.41386740169779856\n",
      "lambda = 2.048, CV cost: 0.41552505764960346\n",
      "lambda = 4.096, CV cost: 0.41942401205276425\n",
      "lambda = 8.192, CV cost: 0.43681498719342055\n",
      "lambda = 16.384, CV cost: 0.5104309328973068\n"
     ]
    }
   ],
   "source": [
    "initial_theta = np.zeros((XTrain.shape[1], 1))\n",
    "alpha = 6\n",
    "numIters = 20\n",
    "\n",
    "CVCost = []\n",
    "for i in range(len(lamVec)):\n",
    "    thetaGD = gradientDescentRegularized(XTrain, yTrain, initial_theta, alpha, numIters, lamVec[i])[0]\n",
    "    CVCost.append(logisticCostFunRegularized(thetaGD, XCV, yCV, 0)[0])\n",
    "    print('lambda = ' + str(lamVec[i]) + ', CV cost: ' + str(CVCost[-1]))"
   ]
  },
  {
   "cell_type": "code",
   "execution_count": 16,
   "metadata": {},
   "outputs": [
    {
     "data": {
      "text/plain": [
       "(array([0]),)"
      ]
     },
     "execution_count": 16,
     "metadata": {},
     "output_type": "execute_result"
    }
   ],
   "source": [
    "np.where(CVCost == np.min(CVCost))"
   ]
  },
  {
   "cell_type": "markdown",
   "metadata": {},
   "source": [
    "best lambda for GD = 0.0001"
   ]
  },
  {
   "cell_type": "code",
   "execution_count": 17,
   "metadata": {},
   "outputs": [],
   "source": [
    "#params\n",
    "lamGD = 0.0001\n",
    "initial_theta = np.zeros((XTrain.shape[1], 1))\n",
    "alpha = 6\n",
    "numIters = 20 #400\n",
    "\n",
    "thetaGD = gradientDescentRegularized(XTrain, yTrain, initial_theta, alpha, numIters, lamGD)[0]"
   ]
  },
  {
   "cell_type": "markdown",
   "metadata": {},
   "source": [
    "# Theta from minimize and thetaGD from gradient descent comparison"
   ]
  },
  {
   "cell_type": "code",
   "execution_count": 18,
   "metadata": {},
   "outputs": [
    {
     "data": {
      "text/plain": [
       "array([[-0.68501277],\n",
       "       [ 0.35696294],\n",
       "       [ 1.08952824],\n",
       "       [-0.12461744],\n",
       "       [ 0.00237897],\n",
       "       [-0.20344015],\n",
       "       [ 0.72951897],\n",
       "       [ 0.33800241],\n",
       "       [ 0.10591689]])"
      ]
     },
     "execution_count": 18,
     "metadata": {},
     "output_type": "execute_result"
    }
   ],
   "source": [
    "theta"
   ]
  },
  {
   "cell_type": "code",
   "execution_count": 19,
   "metadata": {},
   "outputs": [
    {
     "data": {
      "text/plain": [
       "array([[-0.6852041 ],\n",
       "       [ 0.35741233],\n",
       "       [ 1.08926623],\n",
       "       [-0.12486035],\n",
       "       [ 0.00126292],\n",
       "       [-0.20449152],\n",
       "       [ 0.72898456],\n",
       "       [ 0.33773162],\n",
       "       [ 0.10640696]])"
      ]
     },
     "execution_count": 19,
     "metadata": {},
     "output_type": "execute_result"
    }
   ],
   "source": [
    "thetaGD"
   ]
  },
  {
   "cell_type": "markdown",
   "metadata": {},
   "source": [
    "# Test set error:\n",
    "describes how accurate the model is generalizing. __Use $\\lambda = 0$__"
   ]
  },
  {
   "cell_type": "code",
   "execution_count": 20,
   "metadata": {},
   "outputs": [
    {
     "name": "stdout",
     "output_type": "stream",
     "text": [
      "cost: 0.4850783297513151\n",
      "costGD: 0.4849731080685893\n"
     ]
    }
   ],
   "source": [
    "cost = logisticCostFunRegularized(theta, XTest, yTest, 0)[0]\n",
    "costGD = logisticCostFunRegularized(thetaGD, XTest, yTest, 0)[0]\n",
    "print('cost: '+ str(cost))\n",
    "print('costGD: ' + str(costGD))"
   ]
  },
  {
   "cell_type": "markdown",
   "metadata": {},
   "source": [
    "## make predictions and select best prediction threshold"
   ]
  },
  {
   "cell_type": "markdown",
   "metadata": {},
   "source": [
    "### for theta from minimize"
   ]
  },
  {
   "cell_type": "code",
   "execution_count": 21,
   "metadata": {},
   "outputs": [
    {
     "data": {
      "image/png": "[encoded data removed]",
      "text/plain": [
       "<matplotlib.figure.Figure at 0x10fab0550>"
      ]
     },
     "metadata": {},
     "output_type": "display_data"
    }
   ],
   "source": [
    "thresholdVec = np.arange(0,1, 0.005)\n",
    "accuracyVec = []\n",
    "for i in range(len(thresholdVec)):\n",
    "    accuracyVec.append(predict(theta, XTest, yTest, thresholdVec[i])[1])\n",
    "plt.plot(thresholdVec, accuracyVec)\n",
    "t = accuracyVec"
   ]
  },
  {
   "cell_type": "code",
   "execution_count": 22,
   "metadata": {},
   "outputs": [
    {
     "data": {
      "text/plain": [
       "array([ 0.435,  0.44 ,  0.51 ])"
      ]
     },
     "execution_count": 22,
     "metadata": {},
     "output_type": "execute_result"
    }
   ],
   "source": [
    "thresholdVec[np.where(accuracyVec == np.max(accuracyVec))]"
   ]
  },
  {
   "cell_type": "markdown",
   "metadata": {},
   "source": [
    "### theta from gradient descent"
   ]
  },
  {
   "cell_type": "code",
   "execution_count": 23,
   "metadata": {},
   "outputs": [
    {
     "data": {
      "text/plain": [
       "[<matplotlib.lines.Line2D at 0x10fcc4f28>]"
      ]
     },
     "execution_count": 23,
     "metadata": {},
     "output_type": "execute_result"
    },
    {
     "data": {
      "image/png": "[encoded data removed]",
      "text/plain": [
       "<matplotlib.figure.Figure at 0x10fc78b00>"
      ]
     },
     "metadata": {},
     "output_type": "display_data"
    }
   ],
   "source": [
    "thresholdVec = np.arange(0,1, 0.005)\n",
    "accuracyVec = []\n",
    "for i in range(len(thresholdVec)):\n",
    "    accuracyVec.append(predict(thetaGD, XTest, yTest, thresholdVec[i])[1])\n",
    "plt.plot(thresholdVec, accuracyVec)"
   ]
  },
  {
   "cell_type": "code",
   "execution_count": 24,
   "metadata": {},
   "outputs": [
    {
     "data": {
      "text/plain": [
       "array([ 0.435,  0.44 ])"
      ]
     },
     "execution_count": 24,
     "metadata": {},
     "output_type": "execute_result"
    }
   ],
   "source": [
    "thresholdVec[np.where(accuracyVec == np.max(accuracyVec))]"
   ]
  },
  {
   "cell_type": "markdown",
   "metadata": {},
   "source": [
    "### misclassification value"
   ]
  },
  {
   "cell_type": "code",
   "execution_count": 25,
   "metadata": {},
   "outputs": [
    {
     "data": {
      "text/plain": [
       "0.2142857142857143"
      ]
     },
     "execution_count": 25,
     "metadata": {},
     "output_type": "execute_result"
    }
   ],
   "source": [
    "threshold = 0.435\n",
    "gdThreshold = 0.435\n",
    "misclassificationErrorFun(theta, XTest, yTest, threshold)"
   ]
  },
  {
   "cell_type": "code",
   "execution_count": 26,
   "metadata": {},
   "outputs": [
    {
     "data": {
      "text/plain": [
       "0.2142857142857143"
      ]
     },
     "execution_count": 26,
     "metadata": {},
     "output_type": "execute_result"
    }
   ],
   "source": [
    "threshold = 0.435\n",
    "gdThreshold = 0.435\n",
    "misclassificationErrorFun(thetaGD, XTest, yTest, threshold)"
   ]
  },
  {
   "cell_type": "markdown",
   "metadata": {},
   "source": [
    "prediction accuracy"
   ]
  },
  {
   "cell_type": "code",
   "execution_count": 27,
   "metadata": {},
   "outputs": [
    {
     "data": {
      "text/plain": [
       "0.7857142857142857"
      ]
     },
     "execution_count": 27,
     "metadata": {},
     "output_type": "execute_result"
    }
   ],
   "source": [
    "result, accuracy = predict(theta, XTest,yTest, threshold)\n",
    "accuracy"
   ]
  },
  {
   "cell_type": "code",
   "execution_count": 28,
   "metadata": {},
   "outputs": [
    {
     "data": {
      "text/plain": [
       "0.7857142857142857"
      ]
     },
     "execution_count": 28,
     "metadata": {},
     "output_type": "execute_result"
    }
   ],
   "source": [
    "GDresult, GDaccuracy = predict(thetaGD, XTest,yTest, gdThreshold)\n",
    "GDaccuracy"
   ]
  },
  {
   "cell_type": "code",
   "execution_count": 29,
   "metadata": {},
   "outputs": [],
   "source": [
    "def learningCurve(X,y,Xval,yval, lam, subsetSize):\n",
    "\n",
    "    errorTrain = np.zeros((subsetSize,1))\n",
    "    errorVal = np.zeros((subsetSize,1))\n",
    "    \n",
    "    for i in range(1, subsetSize + 1):\n",
    "        theta = trainLinearReg(X.iloc[:i, :], y.iloc[:i], lam).x\n",
    "        errorTrain[i-1] = logisticCostFunRegularized(theta, X.iloc[:i, :], y.iloc[:i], 0)[0]\n",
    "        errorVal[i-1] = logisticCostFunRegularized(theta, Xval, yval, 0)[0]\n",
    "    return({'errorTrain': errorTrain, 'errorVal':errorVal})"
   ]
  },
  {
   "cell_type": "code",
   "execution_count": 30,
   "metadata": {},
   "outputs": [
    {
     "data": {
      "text/plain": [
       "Text(0,0.5,'cost')"
      ]
     },
     "execution_count": 30,
     "metadata": {},
     "output_type": "execute_result"
    },
    {
     "data": {
      "image/png": "[encoded data removed]",
      "text/plain": [
       "<matplotlib.figure.Figure at 0x10fc78400>"
      ]
     },
     "metadata": {},
     "output_type": "display_data"
    }
   ],
   "source": [
    "subsetSize = 50\n",
    "errors = learningCurve(XTrain, yTrain, XTest, yTest, 1, subsetSize);\n",
    "errorTrain = errors['errorTrain']\n",
    "errorVal = errors['errorVal']\n",
    "    \n",
    "plt.plot(range(subsetSize), errorTrain, label=\"train\")\n",
    "plt.plot(range(subsetSize), errorVal, label=\"test\")\n",
    "plt.legend(loc=0)\n",
    "plt.xlabel('$\\lambda$ = 1')\n",
    "plt.ylabel('cost')"
   ]
  }
 ],
 "metadata": {
  "kernelspec": {
   "display_name": "Python 3",
   "language": "python",
   "name": "python3"
  },
  "language_info": {
   "codemirror_mode": {
    "name": "ipython",
    "version": 3
   },
   "file_extension": ".py",
   "mimetype": "text/x-python",
   "name": "python",
   "nbconvert_exporter": "python",
   "pygments_lexer": "ipython3",
   "version": "3.6.4"
  }
 },
 "nbformat": 4,
 "nbformat_minor": 2
}
