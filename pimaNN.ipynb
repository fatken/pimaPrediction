{
 "cells": [
  {
   "cell_type": "markdown",
   "metadata": {},
   "source": [
    "# Neural network implementation\n",
    "1 hidden layer, 25 nodes in second layer"
   ]
  },
  {
   "cell_type": "code",
   "execution_count": 107,
   "metadata": {},
   "outputs": [],
   "source": [
    "import pandas as pd\n",
    "import numpy as np\n",
    "import time\n",
    "from scipy.optimize import minimize\n",
    "import matplotlib.pyplot as plt\n",
    "%matplotlib inline"
   ]
  },
  {
   "cell_type": "markdown",
   "metadata": {},
   "source": [
    "### Feature normalize function"
   ]
  },
  {
   "cell_type": "code",
   "execution_count": 13,
   "metadata": {},
   "outputs": [],
   "source": [
    "# Feature normalization(FOR DATAFRAME, NOT NUMPY ARRAY)\n",
    "def featureNormalize(X, mu = 0, sigma = 0):\n",
    "    if((type(mu)==int or type(mu)== int) and (mu==0 or sigma==0)):\n",
    "        mu = np.mean(X)\n",
    "        sigma = np.std(X)\n",
    "        XNorm = (X - mu)/sigma\n",
    "        return(XNorm, mu, sigma)\n",
    "    else:\n",
    "        XNorm = (X - mu)/sigma\n",
    "        return(XNorm)"
   ]
  },
  {
   "cell_type": "markdown",
   "metadata": {},
   "source": [
    "There is no point in expanding features for NN."
   ]
  },
  {
   "cell_type": "markdown",
   "metadata": {},
   "source": [
    "### Sigmoid function"
   ]
  },
  {
   "cell_type": "code",
   "execution_count": 14,
   "metadata": {},
   "outputs": [],
   "source": [
    "def sigmoid(z):\n",
    "    return(1/(1+np.e**(-z)))"
   ]
  },
  {
   "cell_type": "markdown",
   "metadata": {},
   "source": [
    "### Sigmoid gradient function"
   ]
  },
  {
   "cell_type": "code",
   "execution_count": 15,
   "metadata": {},
   "outputs": [],
   "source": [
    "def sigmoidGradient(z):\n",
    "    #takes the Z values as input\n",
    "    #returns the sigmoid gradients.\n",
    "    gz = sigmoid(z)\n",
    "    sigG = gz * (1 - gz)\n",
    "    return(sigG)"
   ]
  },
  {
   "cell_type": "markdown",
   "metadata": {},
   "source": [
    "### randomly initialize weights\n",
    "One effective strategy for random initializa- tion is to randomly select values for Θ(l) uniformly in the range [−εinit, εinit]. This range of values ensures that the parameters are kept small and makes the learning more efficient.\n",
    "\n",
    "One effective strategy for choosing $\\epsilon_{init}$ is to base it on the number of units in the network. A good choice of $\\epsilon_{init}$ is $\\epsilon_{init} = \\frac{\\sqrt6}{\\sqrt{L_{in} + L_{out}}}$, where $L{in} = s_l$ and $L{out} = s_{l+1}$ are the number of units in the layer adjacent to $\\Theta^{(l)}$  \n",
    "$L{in} = s_l$ = number of nodes in current layer  \n",
    "$L{out} = s_{l+1}$ = number of nodes in the next layer"
   ]
  },
  {
   "cell_type": "code",
   "execution_count": 16,
   "metadata": {},
   "outputs": [],
   "source": [
    "def randInitializeWeights(LIn, LOut):\n",
    "    #takes number of nodes in current layer LIn and next layer LOut\n",
    "    #EXCLUDING BIAS NODE\n",
    "    #returns the theta matrix in shape (LOut x (LIn + 1))\n",
    "    # +1 is the bias theta\n",
    "    epsilon = np.round(np.sqrt(6)/np.sqrt(LIn + LOut), 2)\n",
    "    \n",
    "    W = np.random.rand(LOut, LIn + 1) * 2 * epsilon - epsilon\n",
    "    return(W)"
   ]
  },
  {
   "cell_type": "markdown",
   "metadata": {},
   "source": [
    "### Cost function"
   ]
  },
  {
   "cell_type": "code",
   "execution_count": 17,
   "metadata": {},
   "outputs": [],
   "source": [
    "def nnCostFunction(nn_params, input_layer_size, hidden_layer_size, no_labels, X, y, lam):\n",
    "    #X passed to the function should be a UNBIASED DF\n",
    "    # y should be a DF\n",
    "    #nn_params includes the bias unit theta.\n",
    "    #t1 = time.time()\n",
    "    \n",
    "    #+ 1 because thetas include the bias unit\n",
    "    Theta1 = nn_params[:hidden_layer_size*(input_layer_size + 1)].reshape(hidden_layer_size, (input_layer_size + 1))\n",
    "    Theta2 = nn_params[hidden_layer_size * (input_layer_size + 1) :].reshape(no_labels, (hidden_layer_size + 1))\n",
    "    \n",
    "    # X adding bias\n",
    "    m = X.shape[0]\n",
    "    if type(X) == np.ndarray:\n",
    "        ones = np.ones((m, 1))\n",
    "        X = np.concatenate((ones, X), axis = 1)\n",
    "    else:\n",
    "        x0 = pd.DataFrame(np.ones((m, 1)), columns=[\"x0\"], index=X.index)\n",
    "        X = pd.concat((x0, X), axis = 1)\n",
    "    \n",
    "    #If its binary classification, y does not need to be changed to a matrix\n",
    "    if no_labels == 1:\n",
    "        ymat = np.array(y, dtype=float)\n",
    "    else:\n",
    "        ymat = np.zeros((m, no_labels));\n",
    "        for i in range(m):\n",
    "            ymat[i, y[i]] = 1;\n",
    "\n",
    "    #hypothesis\n",
    "    hypo = np.zeros_like(ymat)\n",
    "    # cummulative theta derivatives initialization\n",
    "    accuDELTA1 = np.zeros_like(Theta1)\n",
    "    accuDELTA2 = np.zeros_like(Theta2)\n",
    "    \n",
    "    #For loop\n",
    "    for i in range(m):\n",
    "        # FORWARD PROPAGATION\n",
    "        #if X is a DF, necessary to change a1 to ndarray\n",
    "        if type(X) == np.ndarray:\n",
    "            a1 = X[i]\n",
    "        else:\n",
    "            a1 = np.array(X.iloc[i, :])\n",
    "        z2 = np.dot(a1, Theta1.T)\n",
    "        a2 = sigmoid(z2)\n",
    "\n",
    "        #add bias\n",
    "        a2 = np.append([1], a2)\n",
    "        z3 = np.dot(a2, Theta2.T)\n",
    "        a3 = sigmoid(z3);\n",
    "        hypo[i] = a3\n",
    "\n",
    "        #BACKWARD PROPAGATION\n",
    "        \n",
    "        #delta calculation, here the deltas are gradients or \n",
    "        # PARTIAL DERIVATIVES FOR ACTIVATION NODE a\n",
    "        delta3 = a3 - ymat[i];\n",
    "        delta2 = np.dot(delta3, Theta2) * (a2 * (1 - a2))\n",
    "        delta2 = delta2[1:]\n",
    "        \n",
    "        #sum of partial derivatives for theta parameters in all samples\n",
    "        accuDELTA2 += delta3.reshape(delta3.shape[0], 1) * a2\n",
    "        accuDELTA1 += delta2.reshape(delta2.shape[0], 1) * a1\n",
    "    \n",
    "    #devide the sum of theta partial derivatives by m to acquire\n",
    "    #theta gradients\n",
    "    Theta1_grad = accuDELTA1 / m\n",
    "    Theta2_grad = accuDELTA2 / m\n",
    "\n",
    "    #add regularization term gradient EXCLUDING THE BIAS theta\n",
    "    #because a0 is already very small(1),\n",
    "    # regularizing their theta will shrink a0 to 0\n",
    "    Theta1_grad[:, 1:] += lam/m * Theta1[:, 1:]\n",
    "    Theta2_grad[:, 1:] += lam/m * Theta2[:, 1:]\n",
    "    \n",
    "    #flatten out gradients\n",
    "    grads = np.append(Theta1_grad.flatten(), Theta2_grad.flatten())\n",
    "    \n",
    "    Junregularized = 1/m * ((-ymat) * np.log(hypo) - (1 - ymat) * np.log(1- hypo))\n",
    "    Junregularized = np.sum(Junregularized)\n",
    "    \n",
    "    #add regularization term\n",
    "    Jregularization = lam / (2 * m)*(np.sum(Theta1[:, 1:]**2) + np.sum(Theta2[:, 1:]**2))\n",
    "    J = Junregularized + Jregularization;\n",
    "\n",
    "    return(J, grads)"
   ]
  },
  {
   "cell_type": "markdown",
   "metadata": {},
   "source": [
    "## Learning function"
   ]
  },
  {
   "cell_type": "code",
   "execution_count": 133,
   "metadata": {},
   "outputs": [],
   "source": [
    "def learn(input_layer_size, hidden_layer_size, no_labels, X, y, initial_nn_params, lam, Method):\n",
    "\n",
    "    global itera\n",
    "    options={'disp': False, 'gtol': 1e-6} #'gtol':1e-6, 'maxIters': 50,     for BFGS\n",
    "    minimizeArgs = (input_layer_size, hidden_layer_size,no_labels, X, y, lam)\n",
    "\n",
    "    t1 = time.time()\n",
    "    res = minimize(nnCostFunction, initial_nn_params, method= Method, jac=True,  options=options, args=minimizeArgs) #  callback=printx,  # CG potentially fastest\n",
    "    t2 = time.time()\n",
    "    print('\\ntotal time: ' + str(t2 - t1), end = '\\r')\n",
    "    itera = 1\n",
    "    return(res)\n",
    "\n",
    "#callback function\n",
    "    def printx(Xi):\n",
    "        global itera\n",
    "        print(itera, end = '\\r',)\n",
    "        itera += 1"
   ]
  },
  {
   "cell_type": "markdown",
   "metadata": {},
   "source": [
    "## Prediction function"
   ]
  },
  {
   "cell_type": "code",
   "execution_count": 81,
   "metadata": {},
   "outputs": [],
   "source": [
    "def predict(Theta1, Theta2, X, threshold = 0.5):\n",
    "    #m, width, height = X.shape\n",
    "    m, n = X.shape\n",
    "    num_labels = Theta2.shape[0]\n",
    "    \n",
    "    #X = X.reshape(m, width*height)\n",
    "    \n",
    "    ones = np.ones((m, 1))\n",
    "    a1 = np.concatenate((ones, X), axis = 1)\n",
    "\n",
    "    h1 = sigmoid(np.dot(a1,optimizedTheta1.T))\n",
    "    h1 = np.concatenate((ones, h1), axis = 1)\n",
    "    \n",
    "    h2 = sigmoid(np.dot(h1,optimizedTheta2.T))\n",
    "    \n",
    "    if h2.shape[1] > 1: # K-classification\n",
    "        #argmax(finds the indeces of maximum values along axis 1, along 2nd dimension)\n",
    "        prediction = h2.argmax(axis=1).reshape((m, 1))\n",
    "    else: # binary classification\n",
    "        prediction = h2>threshold\n",
    "        # convert boolean to value\n",
    "        prediction = (prediction * 1).flatten()\n",
    "    return(prediction)"
   ]
  },
  {
   "cell_type": "markdown",
   "metadata": {},
   "source": [
    "## Read data and track number of entries in sets"
   ]
  },
  {
   "cell_type": "code",
   "execution_count": 20,
   "metadata": {},
   "outputs": [],
   "source": [
    "data = pd.read_csv(\"pima-indians-diabetes.data.txt\", names=['NoPregnant', 'Plasma glucose concentration', 'Diastolic blood pressure(mm Hg)', 'Triceps skin fold thickness (mm)', '2-hr serum insulin(mu U/ml)', 'Body mass index', 'Diabetes pedigree function', 'Age', 'Class variable'])\n",
    "\n",
    "#xTrain, xCV, xTest\n",
    "X = data[data.columns[:-1]]\n",
    "y = pd.DataFrame(data[data.columns[-1]])\n",
    "m = X.shape[0]\n",
    "\n",
    "mTemp = np.round(X.shape[0]*0.4)\n",
    "if mTemp%2 != 0:\n",
    "    mTemp+=1\n",
    "mCV = mTest = int(mTemp/2)\n",
    "mTrain = int(m - mTemp)\n",
    "\n",
    "#splitting dataset\n",
    "XTrain = X.iloc[:mTrain]\n",
    "yTrain = y.iloc[:mTrain]\n",
    "XCV = X.iloc[mTrain:mTrain+mCV]\n",
    "yCV = y.iloc[mTrain:mTrain+mCV]\n",
    "XTest = X.iloc[-mCV:]\n",
    "yTest = y.iloc[-mCV:]\n",
    "\n",
    "\n",
    "#X normalization and bias addition\n",
    "# NO NEED TO ADD BIAS TERM, because the randInitTheta will need to add extra bias theta,\n",
    "#so if the input layer is biased, while the rest is not, it will\n",
    "# make the algorithm more complicated and have redundent cases\n",
    "XTrain, mu, sigma = featureNormalize(XTrain)\n",
    "\n",
    "#XCV configuration\n",
    "XCV = featureNormalize(XCV, mu, sigma)\n",
    "\n",
    "#XTest configuration\n",
    "XTest = featureNormalize(XTest, mu, sigma)\n",
    "\n",
    "#nTrain = n + bias unit\n",
    "nTrain = XTrain.shape[1]"
   ]
  },
  {
   "cell_type": "markdown",
   "metadata": {},
   "source": [
    "## parameters and splitting sets"
   ]
  },
  {
   "cell_type": "code",
   "execution_count": 21,
   "metadata": {},
   "outputs": [],
   "source": [
    "# NN params\n",
    "input_layer_size = nTrain\n",
    "hidden_layer_size = 25\n",
    "no_labels = 1\n",
    "lam = 1\n",
    "\n",
    "# itera\n",
    "itera = 1\n",
    "\n",
    "# Theta initialization, after initialization the thetas will include the bias unit\n",
    "initial_Theta1 = randInitializeWeights(input_layer_size, hidden_layer_size)\n",
    "initial_Theta2 = randInitializeWeights(hidden_layer_size, no_labels)\n",
    "\n",
    "initial_nn_params = np.append(initial_Theta1.flatten(), initial_Theta2.flatten())"
   ]
  },
  {
   "cell_type": "markdown",
   "metadata": {},
   "source": [
    "### test cost"
   ]
  },
  {
   "cell_type": "code",
   "execution_count": 22,
   "metadata": {},
   "outputs": [
    {
     "data": {
      "text/plain": [
       "0.69995637625134244"
      ]
     },
     "execution_count": 22,
     "metadata": {},
     "output_type": "execute_result"
    }
   ],
   "source": [
    "cost, grad = nnCostFunction(initial_nn_params, input_layer_size, hidden_layer_size,no_labels, XTrain, yTrain, lam)\n",
    "cost"
   ]
  },
  {
   "cell_type": "code",
   "execution_count": 134,
   "metadata": {},
   "outputs": [
    {
     "name": "stdout",
     "output_type": "stream",
     "text": [
      "\n"
     ]
    }
   ],
   "source": [
    "res = learn(input_layer_size, hidden_layer_size, no_labels, XTrain, yTrain,initial_nn_params, lam, 'CG')"
   ]
  },
  {
   "cell_type": "code",
   "execution_count": 135,
   "metadata": {},
   "outputs": [],
   "source": [
    "#put optimized thetas back into a matrix form\n",
    "optimizedTheta1 = res.x[:hidden_layer_size*(input_layer_size + 1)].reshape(hidden_layer_size, (input_layer_size + 1))\n",
    "optimizedTheta2 = res.x[hidden_layer_size * (input_layer_size + 1 ) :].reshape(no_labels, (hidden_layer_size + 1))"
   ]
  },
  {
   "cell_type": "markdown",
   "metadata": {},
   "source": [
    "### predict"
   ]
  },
  {
   "cell_type": "code",
   "execution_count": 136,
   "metadata": {},
   "outputs": [
    {
     "name": "stdout",
     "output_type": "stream",
     "text": [
      "prediction accuracy: 0.786956521739\n"
     ]
    }
   ],
   "source": [
    "prediction = predict(optimizedTheta1, optimizedTheta2, XTrain)\n",
    "print(\"prediction accuracy: \" + str(np.sum(prediction == yTrain['Class variable'])/mTrain))"
   ]
  },
  {
   "cell_type": "markdown",
   "metadata": {},
   "source": [
    "### learning curve"
   ]
  },
  {
   "cell_type": "code",
   "execution_count": 130,
   "metadata": {},
   "outputs": [
    {
     "data": {
      "text/plain": [
       "<matplotlib.legend.Legend at 0x112df4fd0>"
      ]
     },
     "execution_count": 130,
     "metadata": {},
     "output_type": "execute_result"
    },
    {
     "data": {
      "image/png": "[encoded data removed]",
      "text/plain": [
       "<matplotlib.figure.Figure at 0x11335fe10>"
      ]
     },
     "metadata": {},
     "output_type": "display_data"
    }
   ],
   "source": [
    "subsetSize = 100\n",
    "trainError = np.zeros((subsetSize, 1))\n",
    "CVError = np.zeros((subsetSize, 1))\n",
    "for i in range(1, subsetSize + 1):\n",
    "    res = learn(input_layer_size, hidden_layer_size, no_labels, XTrain[:i], yTrain[:i],initial_nn_params, lam, 'CG').x\n",
    "    trainError[i-1] = nnCostFunction(res, input_layer_size, hidden_layer_size,no_labels, XTrain[:i], yTrain[:i], 0)[0]\n",
    "    CVError[i-1] = nnCostFunction(res, input_layer_size, hidden_layer_size,no_labels, XCV, yCV, 0)[0]\n",
    "plt.plot(range(subsetSize), trainError, label = 'train')\n",
    "plt.plot(range(subsetSize), CVError, label = 'CV')\n",
    "plt.legend(loc = 0)"
   ]
  },
  {
   "cell_type": "markdown",
   "metadata": {},
   "source": [
    "# Different NN architecture\n",
    "### 1 hidden layer is a good default\n",
    "### multiple hidden layer\n",
    "- Then each layer should have same no. hidden units(usually the more the better)\n",
    "- Having more hidden units is computationally expensive\n",
    "- often having more hidden units is very good\n",
    "- __Usually no of hidden units is comparable to dimension of X or two or three times of that__"
   ]
  },
  {
   "cell_type": "markdown",
   "metadata": {},
   "source": [
    "## Check backprop is properly implemented"
   ]
  },
  {
   "cell_type": "code",
   "execution_count": 227,
   "metadata": {},
   "outputs": [],
   "source": [
    "#checkNNGradients\n",
    "def checkNNGradients(lam = 0):\n",
    "    input_layer_size = 3;\n",
    "    hidden_layer_size = 5;\n",
    "    num_labels = 3;\n",
    "    m = 5;\n",
    "    \n",
    "    #random test data generation\n",
    "    Theta1 = debugInitialWeights(hidden_layer_size, input_layer_size)\n",
    "    Theta2 = debugInitialWeights(num_labels, hidden_layer_size)\n",
    "    \n",
    "    X = debugInitialWeights(m, input_layer_size-1)\n",
    "    y = np.mod(np.arange(1, 6), num_labels) \n",
    "    \n",
    "    nn_params = np.append(Theta1.flatten(), Theta2.flatten())\n",
    "    \n",
    "    cost, grad = nnCostFunction(nn_params, input_layer_size, hidden_layer_size,num_labels, X, y, lam)\n",
    "    \n",
    "    #args = (nn_params,input_layer_size, hidden_layer_size,no_labels, X, y, lam)\n",
    "    \n",
    "    numgrad = computeNumericalGradient(nnCostFunction, nn_params,input_layer_size, hidden_layer_size,num_labels, X, y, lam)\n",
    "    for i in range(len(grad)):\n",
    "        print( grad[i], numgrad[i])\n",
    "    diff = np.linalg.norm(numgrad - grad)/np.linalg.norm(numgrad + grad)\n",
    "    print(\"If back prop is properly implemented, difference should be small, less than 1e-9.\")\n",
    "    \n",
    "    print(\"relative difference: \\n\" + str(diff))\n",
    "\n",
    "#debugInitialWeights\n",
    "def debugInitialWeights(fan_out, fan_in):\n",
    "    w = np.zeros((fan_out, 1 + fan_in))\n",
    "    w = np.sin(np.arange(1,np.size(w)+1)).reshape(fan_out, 1 + fan_in)\n",
    "    return(w)\n",
    "\n",
    "#computeNumericalGradient\n",
    "def computeNumericalGradient(costFun, theta,input_layer_size, hidden_layer_size,no_labels, X, y, lam):\n",
    "    numgrad = np.zeros_like(theta);\n",
    "    perturb = np.zeros_like(theta);\n",
    "    e = 10**-4\n",
    "    for p in range(theta.size):\n",
    "        perturb[p] = e\n",
    "        loss1 = costFun(theta - perturb, input_layer_size, hidden_layer_size,no_labels, X, y, lam)[0];\n",
    "        loss2 = costFun(theta + perturb, input_layer_size, hidden_layer_size,no_labels, X, y, lam)[0];\n",
    "        \n",
    "        numgrad[p] = (loss2 - loss1)/(2*e)\n",
    "        perturb[p] = 0\n",
    "    return(numgrad)"
   ]
  },
  {
   "cell_type": "code",
   "execution_count": 237,
   "metadata": {},
   "outputs": [
    {
     "name": "stdout",
     "output_type": "stream",
     "text": [
      "0.152395925485 0.152395925381\n",
      "0.00867455483106 0.0086745548411\n",
      "0.0167388729772 0.016738873001\n",
      "0.00941354850338 0.00941354850292\n",
      "0.0572621360189 0.057262135984\n",
      "0.0301513760063 0.0301513759915\n",
      "0.0401924661746 0.0401924661331\n",
      "0.013280788299 0.0132807882935\n",
      "-0.0742315718998 -0.0742315718938\n",
      "-0.0160152856103 -0.0160152855955\n",
      "-0.027816259377 -0.0278162593426\n",
      "-0.0140430925538 -0.014043092551\n",
      "-0.136235888501 -0.136235888484\n",
      "-0.00304407820088 -0.00304407823171\n",
      "-0.00685651520662 -0.00685651529553\n",
      "-0.00436510375183 -0.00436510376067\n",
      "-0.0726020435824 -0.0726020435415\n",
      "-0.0216340281404 -0.0216340281378\n",
      "-0.0294166882597 -0.0294166882453\n",
      "-0.010153780855 -0.0101537808517\n",
      "0.416549362562 0.416549362467\n",
      "0.280953791292 0.280953791256\n",
      "0.117434013596 0.117434013589\n",
      "0.252954161989 0.25295416197\n",
      "0.22418550443 0.224185504394\n",
      "0.116730344884 0.116730344881\n",
      "0.210129829549 0.210129829463\n",
      "0.135147414117 0.135147414084\n",
      "0.108455538277 0.10845553827\n",
      "0.0709028000321 0.0709028000134\n",
      "0.143024079327 0.143024079295\n",
      "0.0829384045449 0.082938404542\n",
      "0.195064368703 0.195064368629\n",
      "0.168360863558 0.168360863531\n",
      "0.0605892845858 0.0605892845806\n",
      "0.0717923004295 0.0717923004112\n",
      "0.157848726433 0.157848726403\n",
      "0.0308215356424 0.0308215356415\n",
      "If back prop is properly implemented, difference should be small, less than 1e-9.\n",
      "relative difference: \n",
      "1.46060952051e-10\n"
     ]
    }
   ],
   "source": [
    "checkNNGradients()"
   ]
  }
 ],
 "metadata": {
  "kernelspec": {
   "display_name": "Python 3",
   "language": "python",
   "name": "python3"
  },
  "language_info": {
   "codemirror_mode": {
    "name": "ipython",
    "version": 3
   },
   "file_extension": ".py",
   "mimetype": "text/x-python",
   "name": "python",
   "nbconvert_exporter": "python",
   "pygments_lexer": "ipython3",
   "version": "3.6.4"
  }
 },
 "nbformat": 4,
 "nbformat_minor": 2
}
